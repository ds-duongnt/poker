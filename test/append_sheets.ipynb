{
 "cells": [
  {
   "cell_type": "code",
   "execution_count": 1,
   "id": "07d1961f",
   "metadata": {},
   "outputs": [],
   "source": [
    "import gspread\n",
    "from oauth2client.service_account import ServiceAccountCredentials\n",
    "# Set up the credentials\n",
    "scope = [\"https://spreadsheets.google.com/feeds\", \"https://www.googleapis.com/auth/spreadsheets\", \"https://www.googleapis.com/auth/drive.file\", \"https://www.googleapis.com/auth/drive\"]\n",
    "creds = ServiceAccountCredentials.from_json_keyfile_name('/Users/duongnt/Downloads/sheets-api-343408-c95e856c8871.json', scope)\n",
    "client = gspread.authorize(creds)\n",
    "# Open the Google Sheet using its name\n",
    "# sheet = client.open(\"Your Google Sheet Name\").sheet1\n",
    "# # Data to append\n",
    "# data = [\"John\", \"Doe\", 25]\n",
    "# # Append the data\n",
    "# sheet.append_row(data)\n",
    "# print(\"Data appended successfully!\")"
   ]
  },
  {
   "cell_type": "code",
   "execution_count": 2,
   "id": "04ff9fb4",
   "metadata": {},
   "outputs": [],
   "source": [
    "from datetime import datetime"
   ]
  },
  {
   "cell_type": "code",
   "execution_count": 7,
   "id": "017190be",
   "metadata": {},
   "outputs": [
    {
     "data": {
      "text/plain": [
       "'2023-12-19 15:07'"
      ]
     },
     "execution_count": 7,
     "metadata": {},
     "output_type": "execute_result"
    }
   ],
   "source": [
    "datetime.fromtimestamp(1702973247).strftime('%Y-%m-%d %H:%M')"
   ]
  },
  {
   "cell_type": "code",
   "execution_count": 2,
   "id": "08968c94",
   "metadata": {},
   "outputs": [],
   "source": [
    "source_sheet = client.open_by_key('1y0TPHW5jaaWIOl5l1ITQI1XVsNVjxUikwS9LR3HFVOs')"
   ]
  },
  {
   "cell_type": "code",
   "execution_count": 15,
   "id": "48e39758",
   "metadata": {},
   "outputs": [],
   "source": [
    "sheet = source_sheet.worksheet('Register')\n",
    "# current_list = sheet.get_all_values()[1:]\n",
    "\n",
    "# tag_list = [v[-1] for v in current_list]\n",
    "# tag_list = ['@' + (current_list[i][1] if v == '' else v) for i,v in enumerate(tag_list)]"
   ]
  },
  {
   "cell_type": "code",
   "execution_count": 18,
   "id": "0f40db9e",
   "metadata": {},
   "outputs": [
    {
     "data": {
      "text/plain": [
       "['telegram_id',\n",
       " '437500463',\n",
       " '977988551',\n",
       " '6235420250',\n",
       " '1426366841',\n",
       " '1022449842',\n",
       " '1644935294',\n",
       " '1232053030',\n",
       " '5504245429',\n",
       " '5077585271',\n",
       " '6178159400',\n",
       " '452974698']"
      ]
     },
     "execution_count": 18,
     "metadata": {},
     "output_type": "execute_result"
    }
   ],
   "source": [
    "sheet.col_values(1)"
   ]
  },
  {
   "cell_type": "code",
   "execution_count": 13,
   "id": "7271230e",
   "metadata": {},
   "outputs": [],
   "source": [
    "data = ['452974698', 'Nam', 'Dinh Vu', 'namdv']"
   ]
  },
  {
   "cell_type": "code",
   "execution_count": 53,
   "id": "e130c59e",
   "metadata": {},
   "outputs": [],
   "source": [
    "sheet = source_sheet.worksheet('Register')\n",
    "current_list = sheet.get(\"A2:D\")\n",
    "\n",
    "tag_list = [f\"[{v[1] if len(v) < 4 else v[-1]}](tg://user?id={v[0]})\" for v in current_list]\n",
    "tag_text = ' '.join(tag_list)"
   ]
  },
  {
   "cell_type": "code",
   "execution_count": 52,
   "id": "0bcb0fdd",
   "metadata": {},
   "outputs": [
    {
     "data": {
      "text/plain": [
       "[['437500463', 'Duong', 'Ngo', 'duongnt96'],\n",
       " ['977988551', 'Khang', 'Trinh', 'khangtt2'],\n",
       " ['6235420250', 'Janey', 'Allen'],\n",
       " ['1426366841', 'Thang', 'Van', 'thangvan9'],\n",
       " ['1022449842', 'Mun', '', 'mononokemun'],\n",
       " ['1644935294', 'Polly', '', 'Polly172'],\n",
       " ['1232053030', 'Hieu', 'Nguyen', 'hieunguyenwmdh'],\n",
       " ['5504245429', 'LiciNg.'],\n",
       " ['5077585271', 'Lê', 'Việt Hoàng'],\n",
       " ['6178159400', 'Thái', 'Việt'],\n",
       " ['452974698', 'Nam', 'Dinh Vu', 'namdv']]"
      ]
     },
     "execution_count": 52,
     "metadata": {},
     "output_type": "execute_result"
    }
   ],
   "source": [
    "current_list"
   ]
  },
  {
   "cell_type": "code",
   "execution_count": 54,
   "id": "1823fc7a",
   "metadata": {},
   "outputs": [
    {
     "data": {
      "text/plain": [
       "'[duongnt96](tg://user?id=437500463) [khangtt2](tg://user?id=977988551) [Janey](tg://user?id=6235420250) [thangvan9](tg://user?id=1426366841) [mononokemun](tg://user?id=1022449842) [Polly172](tg://user?id=1644935294) [hieunguyenwmdh](tg://user?id=1232053030) [LiciNg.](tg://user?id=5504245429) [Lê](tg://user?id=5077585271) [Thái](tg://user?id=6178159400) [namdv](tg://user?id=452974698)'"
      ]
     },
     "execution_count": 54,
     "metadata": {},
     "output_type": "execute_result"
    }
   ],
   "source": [
    "tag_text"
   ]
  },
  {
   "cell_type": "code",
   "execution_count": 24,
   "id": "44f5cb3d",
   "metadata": {},
   "outputs": [
    {
     "data": {
      "text/plain": [
       "'[duongnt96](tg://user?id=437500463) [khangtt2](tg://user?id=977988551) [](tg://user?id=6235420250) [thangvan9](tg://user?id=1426366841) [mononokemun](tg://user?id=1022449842) [Polly172](tg://user?id=1644935294) [hieunguyenwmdh](tg://user?id=1232053030) [](tg://user?id=5504245429) [](tg://user?id=5077585271) [](tg://user?id=6178159400)'"
      ]
     },
     "execution_count": 24,
     "metadata": {},
     "output_type": "execute_result"
    }
   ],
   "source": [
    "tag_text = ' '.join(tag_list)\n",
    "tag_text"
   ]
  },
  {
   "cell_type": "code",
   "execution_count": 14,
   "id": "2dd0a670",
   "metadata": {},
   "outputs": [
    {
     "data": {
      "text/plain": [
       "'437500463'"
      ]
     },
     "execution_count": 14,
     "metadata": {},
     "output_type": "execute_result"
    }
   ],
   "source": [
    "user_id = current_list[0][0]\n",
    "user_id"
   ]
  },
  {
   "cell_type": "code",
   "execution_count": 17,
   "id": "be807e3c",
   "metadata": {},
   "outputs": [],
   "source": [
    "mention_format = f\"[{user_name}](tg://user?id={user_id})\""
   ]
  },
  {
   "cell_type": "code",
   "execution_count": 18,
   "id": "421cadc7",
   "metadata": {},
   "outputs": [
    {
     "data": {
      "text/plain": [
       "'[duongnt96](tg://user?id=437500463)'"
      ]
     },
     "execution_count": 18,
     "metadata": {},
     "output_type": "execute_result"
    }
   ],
   "source": [
    "mention_format"
   ]
  },
  {
   "cell_type": "code",
   "execution_count": 4,
   "id": "43779412",
   "metadata": {},
   "outputs": [
    {
     "data": {
      "text/plain": [
       "[['437500463', 'Duong', 'Ngo', 'duongnt96'],\n",
       " ['977988551', 'Khang', 'Trinh', 'khangtt2'],\n",
       " ['6235420250', 'Janey', 'Allen', ''],\n",
       " ['1426366841', 'Thang', 'Van', 'thangvan9'],\n",
       " ['1022449842', 'Mun', '', 'mononokemun'],\n",
       " ['1644935294', 'Polly', '', 'Polly172'],\n",
       " ['1232053030', 'Hieu', 'Nguyen', 'hieunguyenwmdh'],\n",
       " ['5504245429', 'LiciNg.', '', ''],\n",
       " ['5077585271', 'Lê', 'Việt Hoàng', ''],\n",
       " ['6178159400', 'Thái', 'Việt', '']]"
      ]
     },
     "execution_count": 4,
     "metadata": {},
     "output_type": "execute_result"
    }
   ],
   "source": [
    "current_list"
   ]
  },
  {
   "cell_type": "code",
   "execution_count": 25,
   "id": "32471371",
   "metadata": {},
   "outputs": [],
   "source": [
    "sheet = source_sheet.worksheet('Session 1')"
   ]
  },
  {
   "cell_type": "code",
   "execution_count": 29,
   "id": "7a14e770",
   "metadata": {},
   "outputs": [
    {
     "data": {
      "text/plain": [
       "[['Duong', '0', '', '', '', '', '', '', '', '', '0', ''],\n",
       " ['Khang', '0', '2,500', '500', '', '', '810', '', '', '', '1,310', ''],\n",
       " ['Janey',\n",
       "  '3',\n",
       "  '1,000',\n",
       "  '(1,300)',\n",
       "  '',\n",
       "  '',\n",
       "  '(162)',\n",
       "  '',\n",
       "  '',\n",
       "  '',\n",
       "  '(1,462)',\n",
       "  ''],\n",
       " ['Thang', '0', '', '', '', '', '', '', '', '(165)', '(165)', ''],\n",
       " ['Mun', '0', '520', '104', '', '', '(162)', '', '', '', '(58)', ''],\n",
       " ['Polly', '1', '0', '(500)', '', '', '(162)', '', '', '', '(662)', ''],\n",
       " ['Hieu', '0', '8,450', '1,690', '', '', '', '', '', '', '1,690', ''],\n",
       " ['LiciNg.', '0', '', '', '', '', '', '', '', '', '0', ''],\n",
       " ['Lê', '0', '2,230', '446', '', '', '(162)', '', '', '', '284', ''],\n",
       " ['Thái', '2', '1,400', '(720)', '', '', '(162)', '', '', '', '(882)', ''],\n",
       " ['Nam', '0', '', '', '', '', '', '', '', '', '0', ''],\n",
       " ['Đức Anh (Guest)',\n",
       "  '1',\n",
       "  '1,400',\n",
       "  '(220)',\n",
       "  '',\n",
       "  '',\n",
       "  '',\n",
       "  '',\n",
       "  '',\n",
       "  '',\n",
       "  '(220)',\n",
       "  ''],\n",
       " ['Quân (Guest)', '0', '', '', '', '', '', '', '', '', '0', ''],\n",
       " ['Sơn (Guest)', '0', '', '', '', '', '', '', '', '', '0', ''],\n",
       " ['', '7', '17,500', '0', '0', '0', '0', '0', '0', '(165)', '(165)', 'Total']]"
      ]
     },
     "execution_count": 29,
     "metadata": {},
     "output_type": "execute_result"
    }
   ],
   "source": [
    "data = sheet.get_all_values()[2:]\n",
    "data"
   ]
  },
  {
   "cell_type": "code",
   "execution_count": 30,
   "id": "83272085",
   "metadata": {},
   "outputs": [
    {
     "data": {
      "text/plain": [
       "[['Duong', '0', '', '', '', '', '', '', '', '', '0', ''],\n",
       " ['Khang', '0', '2,500', '500', '', '', '810', '', '', '', '1,310', ''],\n",
       " ['Janey',\n",
       "  '3',\n",
       "  '1,000',\n",
       "  '(1,300)',\n",
       "  '',\n",
       "  '',\n",
       "  '(162)',\n",
       "  '',\n",
       "  '',\n",
       "  '',\n",
       "  '(1,462)',\n",
       "  ''],\n",
       " ['Thang', '0', '', '', '', '', '', '', '', '(165)', '(165)', ''],\n",
       " ['Mun', '0', '520', '104', '', '', '(162)', '', '', '', '(58)', ''],\n",
       " ['Polly', '1', '0', '(500)', '', '', '(162)', '', '', '', '(662)', ''],\n",
       " ['Hieu', '0', '8,450', '1,690', '', '', '', '', '', '', '1,690', ''],\n",
       " ['LiciNg.', '0', '', '', '', '', '', '', '', '', '0', ''],\n",
       " ['Lê', '0', '2,230', '446', '', '', '(162)', '', '', '', '284', ''],\n",
       " ['Thái', '2', '1,400', '(720)', '', '', '(162)', '', '', '', '(882)', ''],\n",
       " ['Nam', '0', '', '', '', '', '', '', '', '', '0', ''],\n",
       " ['Đức Anh (Guest)',\n",
       "  '1',\n",
       "  '1,400',\n",
       "  '(220)',\n",
       "  '',\n",
       "  '',\n",
       "  '',\n",
       "  '',\n",
       "  '',\n",
       "  '',\n",
       "  '(220)',\n",
       "  ''],\n",
       " ['Quân (Guest)', '0', '', '', '', '', '', '', '', '', '0', ''],\n",
       " ['Sơn (Guest)', '0', '', '', '', '', '', '', '', '', '0', '']]"
      ]
     },
     "execution_count": 30,
     "metadata": {},
     "output_type": "execute_result"
    }
   ],
   "source": [
    "[v for v in data if v[0]!='']"
   ]
  },
  {
   "cell_type": "code",
   "execution_count": 54,
   "id": "12778584",
   "metadata": {},
   "outputs": [
    {
     "data": {
      "text/plain": [
       "'Bot > PnL'"
      ]
     },
     "execution_count": 54,
     "metadata": {},
     "output_type": "execute_result"
    }
   ],
   "source": [
    "dest = sheet.row_values(1)[1]\n",
    "dest"
   ]
  },
  {
   "cell_type": "code",
   "execution_count": 56,
   "id": "067f903d",
   "metadata": {},
   "outputs": [
    {
     "data": {
      "text/plain": [
       "[['Duong', '0', '3,000', '600', '10', '', '', '', '', '', ''],\n",
       " ['Khang', '2', '2,000', '(600)', '10', '', '', '', '', '', ''],\n",
       " ['Janey', '1', '5,000', '500', '10', '', '', '', '', '', ''],\n",
       " ['Thang', '4', '7,500', '(500)', '10', '', '', '', '', '', ''],\n",
       " ['Mun', '0', '', '', '', '', '', '', '', '', ''],\n",
       " ['Polly', '0', '', '', '', '', '', '', '', '', ''],\n",
       " ['Hieu', '0', '', '', '', '', '', '', '', '', ''],\n",
       " ['LiciNg.', '0', '', '', '', '', '', '', '', '', ''],\n",
       " ['Lê', '0', '', '', '', '', '', '', '', '', ''],\n",
       " ['Thái', '0', '', '', '', '', '', '', '', '', '']]"
      ]
     },
     "execution_count": 56,
     "metadata": {},
     "output_type": "execute_result"
    }
   ],
   "source": [
    "data = sheet.get_all_values()[2:]\n",
    "data"
   ]
  },
  {
   "cell_type": "code",
   "execution_count": 62,
   "id": "1fcbae1f",
   "metadata": {},
   "outputs": [
    {
     "data": {
      "text/plain": [
       "'600)'"
      ]
     },
     "execution_count": 62,
     "metadata": {},
     "output_type": "execute_result"
    }
   ],
   "source": [
    "'(600)'.replace('(','')"
   ]
  },
  {
   "cell_type": "code",
   "execution_count": 63,
   "id": "d3a31e66",
   "metadata": {},
   "outputs": [
    {
     "data": {
      "text/plain": [
       "-500"
      ]
     },
     "execution_count": 63,
     "metadata": {},
     "output_type": "execute_result"
    }
   ],
   "source": [
    "int('-500')"
   ]
  },
  {
   "cell_type": "code",
   "execution_count": 24,
   "id": "757c1752",
   "metadata": {},
   "outputs": [],
   "source": [
    "def profit_convert(string):\n",
    "    string = string.replace(',','')\n",
    "    if string == '':\n",
    "        return '-'\n",
    "    if '(' in string:\n",
    "        string = '-' + string.replace('(','').replace(')','')\n",
    "    return int(string)"
   ]
  },
  {
   "cell_type": "code",
   "execution_count": 23,
   "id": "91a51760",
   "metadata": {},
   "outputs": [
    {
     "data": {
      "text/plain": [
       "'2500'"
      ]
     },
     "execution_count": 23,
     "metadata": {},
     "output_type": "execute_result"
    }
   ],
   "source": [
    "'2,500'.replace(',','')"
   ]
  },
  {
   "cell_type": "code",
   "execution_count": 111,
   "id": "28decf48",
   "metadata": {},
   "outputs": [
    {
     "data": {
      "text/plain": [
       "[600, -600, 500, -500, '-', '-', '-', '-', '-', '-']"
      ]
     },
     "execution_count": 111,
     "metadata": {},
     "output_type": "execute_result"
    }
   ],
   "source": [
    "push = [profit_convert(v[3]) for v in data]\n",
    "push"
   ]
  },
  {
   "cell_type": "code",
   "execution_count": 114,
   "id": "d8b53876",
   "metadata": {},
   "outputs": [],
   "source": [
    "for i, v in enumerate(push):\n",
    "    sheet.update_cell(i+2, col_push, v)"
   ]
  },
  {
   "cell_type": "code",
   "execution_count": 109,
   "id": "5f1b36ed",
   "metadata": {},
   "outputs": [
    {
     "data": {
      "text/plain": [
       "['Duong', '', '', '', '', '', '', '', '', '0', '1']"
      ]
     },
     "execution_count": 109,
     "metadata": {},
     "output_type": "execute_result"
    }
   ],
   "source": [
    "sheet.row_values(2)"
   ]
  },
  {
   "cell_type": "code",
   "execution_count": 86,
   "id": "ddbbd79c",
   "metadata": {},
   "outputs": [
    {
     "data": {
      "text/plain": [
       "2"
      ]
     },
     "execution_count": 86,
     "metadata": {},
     "output_type": "execute_result"
    }
   ],
   "source": [
    "col_push = sheet.row_values(2).index('') + 1\n",
    "col_push"
   ]
  },
  {
   "cell_type": "code",
   "execution_count": 75,
   "id": "c1bb2bf9",
   "metadata": {},
   "outputs": [
    {
     "name": "stderr",
     "output_type": "stream",
     "text": [
      "/var/folders/s4/mtjsq75932s3h131gfc44h_h0000gn/T/ipykernel_16488/2436538081.py:2: DeprecationWarning: [Deprecated][in version 6.0.0]: Method signature's arguments 'range_name' and 'values' will change their order. We recommend using named arguments for minimal impact. In addition, the argument 'values' will be mandatory of type: 'List[List]'. (ex) Worksheet.update(values = [[]], range_name=) \n",
      "  sheet.update('B2:B', push)\n"
     ]
    },
    {
     "data": {
      "text/plain": [
       "{'spreadsheetId': '1y0TPHW5jaaWIOl5l1ITQI1XVsNVjxUikwS9LR3HFVOs',\n",
       " 'updatedRange': \"'Bot > PnL'!B2:B11\",\n",
       " 'updatedRows': 10,\n",
       " 'updatedColumns': 1,\n",
       " 'updatedCells': 10}"
      ]
     },
     "execution_count": 75,
     "metadata": {},
     "output_type": "execute_result"
    }
   ],
   "source": [
    "sheet = source_sheet.worksheet(dest)\n",
    "sheet.update('B2:B', push)"
   ]
  },
  {
   "cell_type": "code",
   "execution_count": 31,
   "id": "8caac93b",
   "metadata": {},
   "outputs": [
    {
     "data": {
      "text/plain": [
       "[['telegram_id', 'first_name', 'last_name', 'user_name'],\n",
       " ['437500463', 'Duong', 'Ngo', 'duongnt96'],\n",
       " ['977988551', 'Khang', 'Trinh', 'khangtt2'],\n",
       " ['6235420250', 'Janey', 'Allen', ''],\n",
       " ['1232053030', 'Hieu', 'Nguyen', 'hieunguyenwmdh']]"
      ]
     },
     "execution_count": 31,
     "metadata": {},
     "output_type": "execute_result"
    }
   ],
   "source": [
    "current = sheet.get_all_values()\n",
    "current"
   ]
  },
  {
   "cell_type": "code",
   "execution_count": 30,
   "id": "27e4e3a5",
   "metadata": {},
   "outputs": [
    {
     "data": {
      "text/plain": [
       "[['437500463', 'Duong'],\n",
       " ['977988551', 'Khang'],\n",
       " ['6235420250', 'Janey'],\n",
       " ['1232053030', 'Hieu']]"
      ]
     },
     "execution_count": 30,
     "metadata": {},
     "output_type": "execute_result"
    }
   ],
   "source": [
    "[v[:2] for v in current[1:]]"
   ]
  },
  {
   "cell_type": "code",
   "execution_count": 21,
   "id": "0becdc06",
   "metadata": {},
   "outputs": [],
   "source": [
    "data = [222, 'abc']"
   ]
  },
  {
   "cell_type": "code",
   "execution_count": 23,
   "id": "79485d42",
   "metadata": {},
   "outputs": [
    {
     "data": {
      "text/plain": [
       "{'spreadsheetId': '1y0TPHW5jaaWIOl5l1ITQI1XVsNVjxUikwS9LR3HFVOs',\n",
       " 'tableRange': 'Register!A1:B2',\n",
       " 'updates': {'spreadsheetId': '1y0TPHW5jaaWIOl5l1ITQI1XVsNVjxUikwS9LR3HFVOs',\n",
       "  'updatedRange': 'Register!A3:B3',\n",
       "  'updatedRows': 1,\n",
       "  'updatedColumns': 2,\n",
       "  'updatedCells': 2}}"
      ]
     },
     "execution_count": 23,
     "metadata": {},
     "output_type": "execute_result"
    }
   ],
   "source": [
    "sheet.append_row(data)"
   ]
  },
  {
   "cell_type": "code",
   "execution_count": null,
   "id": "aca182c2",
   "metadata": {},
   "outputs": [],
   "source": [
    "sheet."
   ]
  }
 ],
 "metadata": {
  "kernelspec": {
   "display_name": "Python 3 (ipykernel)",
   "language": "python",
   "name": "python3"
  },
  "language_info": {
   "codemirror_mode": {
    "name": "ipython",
    "version": 3
   },
   "file_extension": ".py",
   "mimetype": "text/x-python",
   "name": "python",
   "nbconvert_exporter": "python",
   "pygments_lexer": "ipython3",
   "version": "3.10.9"
  }
 },
 "nbformat": 4,
 "nbformat_minor": 5
}

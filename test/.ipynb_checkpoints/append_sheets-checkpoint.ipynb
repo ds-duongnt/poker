{
 "cells": [
  {
   "cell_type": "code",
   "execution_count": 8,
   "id": "07d1961f",
   "metadata": {},
   "outputs": [],
   "source": [
    "import gspread\n",
    "from oauth2client.service_account import ServiceAccountCredentials\n",
    "# Set up the credentials\n",
    "scope = [\"https://spreadsheets.google.com/feeds\", \"https://www.googleapis.com/auth/spreadsheets\", \"https://www.googleapis.com/auth/drive.file\", \"https://www.googleapis.com/auth/drive\"]\n",
    "creds = ServiceAccountCredentials.from_json_keyfile_name('/Users/duongnt/Downloads/sheets-api-343408-c95e856c8871.json', scope)\n",
    "client = gspread.authorize(creds)\n",
    "# Open the Google Sheet using its name\n",
    "# sheet = client.open(\"Your Google Sheet Name\").sheet1\n",
    "# # Data to append\n",
    "# data = [\"John\", \"Doe\", 25]\n",
    "# # Append the data\n",
    "# sheet.append_row(data)\n",
    "# print(\"Data appended successfully!\")"
   ]
  },
  {
   "cell_type": "code",
   "execution_count": 2,
   "id": "04ff9fb4",
   "metadata": {},
   "outputs": [],
   "source": [
    "from datetime import datetime"
   ]
  },
  {
   "cell_type": "code",
   "execution_count": 7,
   "id": "017190be",
   "metadata": {},
   "outputs": [
    {
     "data": {
      "text/plain": [
       "'2023-12-19 15:07'"
      ]
     },
     "execution_count": 7,
     "metadata": {},
     "output_type": "execute_result"
    }
   ],
   "source": [
    "datetime.fromtimestamp(1702973247).strftime('%Y-%m-%d %H:%M')"
   ]
  },
  {
   "cell_type": "code",
   "execution_count": 14,
   "id": "08968c94",
   "metadata": {},
   "outputs": [],
   "source": [
    "source_sheet = client.open_by_key('1y0TPHW5jaaWIOl5l1ITQI1XVsNVjxUikwS9LR3HFVOs')"
   ]
  },
  {
   "cell_type": "code",
   "execution_count": 26,
   "id": "48e39758",
   "metadata": {},
   "outputs": [],
   "source": [
    "sheet = source_sheet.worksheet('Register')\n",
    "current_list = sheet.get_all_values()[1:]\n",
    "\n",
    "tag_list = [v[-1] for v in current_list]\n",
    "tag_list = ['@' + (current_list[i][1] if v == '' else v) for i,v in enumerate(tag_list)]"
   ]
  },
  {
   "cell_type": "code",
   "execution_count": 28,
   "id": "43779412",
   "metadata": {},
   "outputs": [
    {
     "data": {
      "text/plain": [
       "'@duongnt96 @khangtt2 @Janey'"
      ]
     },
     "execution_count": 28,
     "metadata": {},
     "output_type": "execute_result"
    }
   ],
   "source": [
    "' '.join(tag_list)"
   ]
  },
  {
   "cell_type": "code",
   "execution_count": 10,
   "id": "32471371",
   "metadata": {},
   "outputs": [
    {
     "data": {
      "text/plain": [
       "[['tx_id',\n",
       "  'timestamp',\n",
       "  'category',\n",
       "  'status',\n",
       "  'player',\n",
       "  'chip',\n",
       "  'admin',\n",
       "  'payment',\n",
       "  'thu hồi',\n",
       "  'note'],\n",
       " ['3',\n",
       "  '2023-12-21 17:21',\n",
       "  'deposit',\n",
       "  'PENDING',\n",
       "  'Duong',\n",
       "  '2500',\n",
       "  'FALSE',\n",
       "  'FALSE',\n",
       "  'FALSE',\n",
       "  ''],\n",
       " ['', '', '', '', '', '', 'FALSE', 'FALSE', 'FALSE', ''],\n",
       " ['', '', '', '', '', '', 'FALSE', 'FALSE', 'FALSE', '']]"
      ]
     },
     "execution_count": 10,
     "metadata": {},
     "output_type": "execute_result"
    }
   ],
   "source": [
    "sheet.get_all_values()"
   ]
  },
  {
   "cell_type": "code",
   "execution_count": 47,
   "id": "7a14e770",
   "metadata": {},
   "outputs": [
    {
     "data": {
      "text/plain": [
       "'Khang'"
      ]
     },
     "execution_count": 47,
     "metadata": {},
     "output_type": "execute_result"
    }
   ],
   "source": [
    "sheet.col_values(2)[2]"
   ]
  },
  {
   "cell_type": "code",
   "execution_count": 31,
   "id": "8caac93b",
   "metadata": {},
   "outputs": [
    {
     "data": {
      "text/plain": [
       "[['telegram_id', 'first_name', 'last_name', 'user_name'],\n",
       " ['437500463', 'Duong', 'Ngo', 'duongnt96'],\n",
       " ['977988551', 'Khang', 'Trinh', 'khangtt2'],\n",
       " ['6235420250', 'Janey', 'Allen', ''],\n",
       " ['1232053030', 'Hieu', 'Nguyen', 'hieunguyenwmdh']]"
      ]
     },
     "execution_count": 31,
     "metadata": {},
     "output_type": "execute_result"
    }
   ],
   "source": [
    "current = sheet.get_all_values()\n",
    "current"
   ]
  },
  {
   "cell_type": "code",
   "execution_count": 30,
   "id": "27e4e3a5",
   "metadata": {},
   "outputs": [
    {
     "data": {
      "text/plain": [
       "[['437500463', 'Duong'],\n",
       " ['977988551', 'Khang'],\n",
       " ['6235420250', 'Janey'],\n",
       " ['1232053030', 'Hieu']]"
      ]
     },
     "execution_count": 30,
     "metadata": {},
     "output_type": "execute_result"
    }
   ],
   "source": [
    "[v[:2] for v in current[1:]]"
   ]
  },
  {
   "cell_type": "code",
   "execution_count": 21,
   "id": "0becdc06",
   "metadata": {},
   "outputs": [],
   "source": [
    "data = [222, 'abc']"
   ]
  },
  {
   "cell_type": "code",
   "execution_count": 23,
   "id": "79485d42",
   "metadata": {},
   "outputs": [
    {
     "data": {
      "text/plain": [
       "{'spreadsheetId': '1y0TPHW5jaaWIOl5l1ITQI1XVsNVjxUikwS9LR3HFVOs',\n",
       " 'tableRange': 'Register!A1:B2',\n",
       " 'updates': {'spreadsheetId': '1y0TPHW5jaaWIOl5l1ITQI1XVsNVjxUikwS9LR3HFVOs',\n",
       "  'updatedRange': 'Register!A3:B3',\n",
       "  'updatedRows': 1,\n",
       "  'updatedColumns': 2,\n",
       "  'updatedCells': 2}}"
      ]
     },
     "execution_count": 23,
     "metadata": {},
     "output_type": "execute_result"
    }
   ],
   "source": [
    "sheet.append_row(data)"
   ]
  },
  {
   "cell_type": "code",
   "execution_count": null,
   "id": "aca182c2",
   "metadata": {},
   "outputs": [],
   "source": [
    "sheet."
   ]
  }
 ],
 "metadata": {
  "kernelspec": {
   "display_name": "Python 3 (ipykernel)",
   "language": "python",
   "name": "python3"
  },
  "language_info": {
   "codemirror_mode": {
    "name": "ipython",
    "version": 3
   },
   "file_extension": ".py",
   "mimetype": "text/x-python",
   "name": "python",
   "nbconvert_exporter": "python",
   "pygments_lexer": "ipython3",
   "version": "3.10.9"
  }
 },
 "nbformat": 4,
 "nbformat_minor": 5
}
